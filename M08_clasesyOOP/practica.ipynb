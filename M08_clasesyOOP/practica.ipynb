{
 "cells": [
  {
   "cell_type": "code",
   "execution_count": null,
   "metadata": {},
   "outputs": [],
   "source": [
    "palabra = input('Ingrese una palabra: ')\n",
    "for x in range(1,11):\n",
    "    print(palabra) "
   ]
  },
  {
   "cell_type": "code",
   "execution_count": null,
   "metadata": {},
   "outputs": [],
   "source": [
    "edad = int(input('Ingrese su edad: '))\n",
    "for edad in range(0,edad + 1):\n",
    "    print(edad)"
   ]
  },
  {
   "cell_type": "code",
   "execution_count": null,
   "metadata": {},
   "outputs": [],
   "source": [
    "entero = int(input('Ingrese un numero entero positivo: '))\n",
    "for x in range(1, x+1, 2):\n",
    "    print(x, end=', ')"
   ]
  },
  {
   "cell_type": "code",
   "execution_count": null,
   "metadata": {},
   "outputs": [],
   "source": [
    "n = int(input(\"Introduce un número entero positivo: \"))\n",
    "for i in range(0, n+1, 2):\n",
    "    print(i, end=\", \")"
   ]
  },
  {
   "cell_type": "code",
   "execution_count": null,
   "metadata": {},
   "outputs": [],
   "source": [
    "cantidad = float(input('Cuanto vas a invertir?: '))\n",
    "interes = float(input('Que rendimiento (en porcentaje) da por anio?:'))\n",
    "anios = int(input('Cuantos anios vas a invertir?: '))\n",
    "for i in range(anios):\n",
    "    cantidad *= 1 + interes / 100\n",
    "    print('Ganancia tras', str(i+1), 'anios:', str(round(cantidad,2)))"
   ]
  },
  {
   "cell_type": "code",
   "execution_count": null,
   "metadata": {},
   "outputs": [],
   "source": [
    "n = int(input('Ingresa un entero:'))\n",
    "for x in range(n):\n",
    "    triangulo = '*' * x\n",
    "    print(triangulo)"
   ]
  },
  {
   "cell_type": "code",
   "execution_count": null,
   "metadata": {},
   "outputs": [],
   "source": [
    "for x in range(1,11):\n",
    "    for i in range(1,11):\n",
    "        print(i*x, end=\"\\t\")\n",
    "    print(\"\")\n"
   ]
  },
  {
   "cell_type": "code",
   "execution_count": null,
   "metadata": {},
   "outputs": [],
   "source": [
    "n = int(input('Numero: '))\n",
    "for x in range(1,n,2):\n",
    "    for i in range(x,0,-2):\n",
    "        print(i, end=' ')\n",
    "    print(' ')"
   ]
  },
  {
   "cell_type": "code",
   "execution_count": null,
   "metadata": {},
   "outputs": [],
   "source": [
    "c = str(input('Ingrese contrasenia: '))\n",
    "c2 = str(input('confirmar contrasenia: '))\n",
    "while c2 != c:\n",
    "    print('Error. Las contrasenias no son iguales')\n",
    "    c2 = str(input('Reingrese contrasenia'))\n",
    "print('Bienvenido, Contrasenia validada')"
   ]
  },
  {
   "cell_type": "code",
   "execution_count": null,
   "metadata": {},
   "outputs": [],
   "source": [
    "def es_primo(primo):\n",
    "    for x in range(2,primo):\n",
    "        if primo % x == 0:\n",
    "            return print('no Es numero primo')\n",
    "        else:\n",
    "            print('es numero primo')"
   ]
  },
  {
   "cell_type": "code",
   "execution_count": null,
   "metadata": {},
   "outputs": [],
   "source": [
    "print('Bienvenido a el programa para saber si un entero es primo o no')\n",
    "num = int(input('Ingresar numero entero:'))\n",
    "print('El numero elegido es:', num)\n",
    "es_primo(num)\n"
   ]
  },
  {
   "cell_type": "code",
   "execution_count": 1,
   "metadata": {},
   "outputs": [
    {
     "name": "stdout",
     "output_type": "stream",
     "text": [
      "i\n",
      "n\n",
      "i\n",
      "r\n",
      "a\n",
      "z\n",
      "z\n",
      "a\n",
      "l\n",
      " \n",
      "o\n",
      "r\n",
      "a\n",
      "v\n",
      "l\n",
      "a\n"
     ]
    }
   ],
   "source": [
    "cadena = 'alvaro lazzarini'\n",
    "for letra in range(len(cadena)-1, -1, -1):\n",
    "    print(cadena[letra])"
   ]
  },
  {
   "cell_type": "code",
   "execution_count": 2,
   "metadata": {},
   "outputs": [
    {
     "name": "stdout",
     "output_type": "stream",
     "text": [
      "La letra a aparece 5 veces\n"
     ]
    }
   ],
   "source": [
    "letra = 'a'\n",
    "frase = 'la alegria programar'\n",
    "conteo = 0\n",
    "for x in frase:\n",
    "    if x == letra:\n",
    "        conteo += 1\n",
    "\n",
    "print('La letra',letra,'aparece',conteo, 'veces')"
   ]
  },
  {
   "cell_type": "code",
   "execution_count": null,
   "metadata": {},
   "outputs": [],
   "source": [
    "while True:\n",
    "    frase = input(\"Introduce algo: \")\n",
    "    if frase == \"salir\":\n",
    "        break\n",
    "    print(frase)"
   ]
  },
  {
   "cell_type": "markdown",
   "metadata": {},
   "source": [
    "--------------------------------------------------------------------------------------------"
   ]
  },
  {
   "cell_type": "code",
   "execution_count": null,
   "metadata": {},
   "outputs": [],
   "source": [
    "materias = ['Fisica','Matematica','Historia']\n",
    "print(materias)"
   ]
  },
  {
   "cell_type": "code",
   "execution_count": null,
   "metadata": {},
   "outputs": [],
   "source": [
    "for x in materias:\n",
    "    print('Yo estudio', x)"
   ]
  },
  {
   "cell_type": "code",
   "execution_count": null,
   "metadata": {},
   "outputs": [],
   "source": [
    "materias = ['Fisica','Matematica','Historia']\n",
    "resultados = []\n",
    "for x in materias:\n",
    "    nota = input(f'Cuanto sacaste en {x} este anio?')\n",
    "    resultados.append(nota)\n",
    "for i in range(len(materias)):\n",
    "    print('En', materias[i], 'un', resultados[i])\n",
    "\n"
   ]
  },
  {
   "cell_type": "code",
   "execution_count": null,
   "metadata": {},
   "outputs": [],
   "source": [
    "x = 's'\n",
    "loteria = []\n",
    "while x=='s':\n",
    "    numero = input('Que numero de loteria?')\n",
    "    loteria.append(numero)\n",
    "    print('agregaste el:', numero)\n",
    "    x = input('otro nro? s/n')\n",
    "loteria.sort()\n",
    "print('Los numeros para la loteria son:',loteria)"
   ]
  },
  {
   "cell_type": "code",
   "execution_count": null,
   "metadata": {},
   "outputs": [],
   "source": [
    "loteria = []\n",
    "for i in range(6):\n",
    "    numero = input('Que numero de loteria?')\n",
    "    loteria.append(numero)\n",
    "    print('agregaste el:', numero)\n",
    "loteria.sort()\n",
    "print('Los numeros para la loteria son:',loteria)"
   ]
  },
  {
   "cell_type": "code",
   "execution_count": null,
   "metadata": {},
   "outputs": [],
   "source": [
    "numeros = []\n",
    "for i in range(10):\n",
    "    x = input('numero')\n",
    "    numeros.append(x)\n",
    "numeros.sort(reverse=True)\n",
    "print(numeros, end= ', ')"
   ]
  },
  {
   "cell_type": "code",
   "execution_count": null,
   "metadata": {},
   "outputs": [],
   "source": [
    "numeros = [1,2,3,4,5,6,7,8,9,10]\n",
    "numeros.reverse()\n",
    "for numero in numeros:\n",
    "    print(numero, end = ', ')"
   ]
  },
  {
   "cell_type": "code",
   "execution_count": null,
   "metadata": {},
   "outputs": [],
   "source": [
    "materias = ['Fisica','Matematica','Historia', 'Lengua', 'Cs. Naturales', 'Tecnologia']\n",
    "resultados = []\n",
    "for x in materias:\n",
    "    nota = int(input(f'Cuanto sacaste en {x} este anio?'))\n",
    "    resultados.append(nota)\n",
    "    if nota >= 6:\n",
    "        materias.remove(x)\n",
    "        resultados.remove(nota)\n",
    "    elif len(materias) == len(resultados):\n",
    "        break \n",
    "for i in range(len(resultados)):\n",
    "    print('En', materias[i], 'te sacaste un', resultados[i], 'tenes que repetirla')\n"
   ]
  },
  {
   "cell_type": "code",
   "execution_count": null,
   "metadata": {},
   "outputs": [],
   "source": [
    "materias = ['Fisica','Matematica','Historia', 'Lengua', 'Cs. Naturales', 'Tecnologia']\n",
    "resultados = []\n",
    "for x in materias:\n",
    "    nota = int(input(f'Cuanto sacaste en {x} este anio?'))\n",
    "    if nota < 6:\n",
    "        resultados.append(x) \n",
    "for i in resultados:\n",
    "    print(f'tenes que repetir', i)\n"
   ]
  },
  {
   "cell_type": "code",
   "execution_count": null,
   "metadata": {},
   "outputs": [],
   "source": [
    "abecedario = ['a','b','c','d','e','f','g','h','i','j','k','l','m','n','o','p','q','r','s','t','u','v','x','y','z']\n",
    "for i in range(len(abecedario),1,-1):\n",
    "    if i % 3 == 0:\n",
    "        abecedario.pop(i-1)\n",
    "print(abecedario)"
   ]
  },
  {
   "cell_type": "code",
   "execution_count": null,
   "metadata": {},
   "outputs": [],
   "source": [
    "palabra = input('palabra:')\n",
    "palabra_alreves = palabra\n",
    "palabra = list(palabra)\n",
    "palabra_alreves = list(palabra_alreves)\n",
    "palabra_alreves.reverse()\n",
    "if palabra == palabra_alreves:\n",
    "    print('es un palindromo')\n",
    "else:\n",
    "    print('no es un palindromo')"
   ]
  },
  {
   "cell_type": "code",
   "execution_count": null,
   "metadata": {},
   "outputs": [],
   "source": [
    "palabra = input('palabra:')\n",
    "vocales = []\n",
    "for i in palabra:\n",
    "    if i == 'a' or i =='e' or i== 'u' or i =='i':\n",
    "        vocales.append(i)\n",
    "        print('La vocal',i, 'aparece',len(i), 'veces')\n",
    "    \n",
    "    else:\n",
    "        None"
   ]
  },
  {
   "cell_type": "code",
   "execution_count": null,
   "metadata": {},
   "outputs": [],
   "source": [
    "palabra = input('palabra:')\n",
    "vocales = ['a','e','i','o','u']\n",
    "for x in vocales:\n",
    "    y = 0\n",
    "    for letra in palabra:\n",
    "        if letra == x:\n",
    "            y+=1\n",
    "    print(f'la vocal {x} aprece {y} veces')"
   ]
  },
  {
   "cell_type": "code",
   "execution_count": 1,
   "metadata": {},
   "outputs": [
    {
     "name": "stdout",
     "output_type": "stream",
     "text": [
      "el minimo es 8\n",
      "el maximo es 80\n"
     ]
    }
   ],
   "source": [
    "lista = [50,75,46,22,80,65,8]\n",
    "lista.sort()\n",
    "minimo = lista[0]\n",
    "maximo = lista[6]\n",
    "print('el minimo es',minimo)\n",
    "print('el maximo es',maximo)"
   ]
  },
  {
   "cell_type": "code",
   "execution_count": null,
   "metadata": {},
   "outputs": [],
   "source": [
    "lista = [50,75,46,22,80,65,8]\n",
    "min = max = lista [0]\n",
    "for x in lista:\n",
    "    if x < min:\n",
    "        min = x\n",
    "    elif x > max:\n",
    "        max = x\n",
    "print(min)\n",
    "print(max)"
   ]
  },
  {
   "cell_type": "code",
   "execution_count": null,
   "metadata": {},
   "outputs": [],
   "source": [
    "lista1 = [1,2,3]\n",
    "lista2 = [-1,0,2]\n",
    "vector = lista1 + lista2\n",
    "vector"
   ]
  },
  {
   "cell_type": "code",
   "execution_count": null,
   "metadata": {},
   "outputs": [],
   "source": [
    "monedas = {'Euro':'€','Dolar':'$','Yen':'¥'}\n",
    "divisa = str(input('elegi una divisa: Euro, Dolar o Yen: '))\n",
    "if divisa in monedas:\n",
    "    print('Divisa disponible', monedas[divisa.title()])\n",
    "else:\n",
    "    print('Divisa no disponible')"
   ]
  },
  {
   "cell_type": "code",
   "execution_count": null,
   "metadata": {},
   "outputs": [],
   "source": [
    "nombre = input('nombre')\n",
    "apellido = input('apellido')\n",
    "direccion = input('direccion')\n",
    "telefono = input('telefono')\n",
    "agenda = {'nombre':nombre, 'apellido':apellido,'direccion':direccion,'telefono':telefono}\n",
    "print(agenda['nombre'], agenda['apellido'], 'vive en', agenda['direccion'], 'y su telefono es', agenda['telefono'])\n"
   ]
  },
  {
   "cell_type": "code",
   "execution_count": null,
   "metadata": {},
   "outputs": [],
   "source": [
    "precios = {'banana':1.35,'manzana':0.80,'pera':0.85,'naranja':0.70}\n",
    "fruta = input('que fruta')\n",
    "kilo = float(input('cuantos kilos'))\n",
    "if fruta in precios:\n",
    "    calculo = kilo * precios[fruta]\n",
    "    print('Te sale', calculo)\n",
    "else:\n",
    "    print('no tenemos esa fruta')"
   ]
  },
  {
   "cell_type": "code",
   "execution_count": null,
   "metadata": {},
   "outputs": [],
   "source": [
    "fecha = input('ingresa fecha en formato dd/mes/anio: ')\n",
    "fecha = fecha.split('/')\n",
    "meses = {1:'enero', 2: 'febrero',3:'marzo',4:'abril',5:'mayo',6:'junio', 7:'julio',8:'agosto', 9: 'septiembre',10:'octubre',11:'noviembre',12:'diciembre'}\n",
    "print(fecha[0], 'de', meses[int(fecha[1])], 'de', fecha[2])"
   ]
  },
  {
   "cell_type": "code",
   "execution_count": null,
   "metadata": {},
   "outputs": [],
   "source": [
    "notas = {'Matematicas': 6, 'Fisica': 4, 'Quimica': 5}\n",
    "suma = 0\n",
    "for nota in notas:\n",
    "    print('en', nota, 'te sacaste un', notas[nota])\n",
    "    suma += notas[nota]\n",
    "print('el total de notas es:', suma)\n"
   ]
  },
  {
   "cell_type": "code",
   "execution_count": null,
   "metadata": {},
   "outputs": [],
   "source": [
    "datos_personales = {}\n",
    "agregar = 's'\n",
    "while agregar == 's':\n",
    "    nombre = input('que dato queres agregar?')\n",
    "    value = input(nombre + ': ')\n",
    "    datos_personales[nombre] = value\n",
    "    agregar = input('desea agregar otro dato: s/n')\n",
    "print(datos_personales)"
   ]
  },
  {
   "cell_type": "code",
   "execution_count": null,
   "metadata": {},
   "outputs": [],
   "source": [
    "lista_del_super = {}\n",
    "agregar = 's'\n",
    "while agregar == 's':\n",
    "    articulo = input('producto:')\n",
    "    precio = float(input('precio de ' + articulo + ':' ))\n",
    "    lista_del_super[articulo] = precio\n",
    "    agregar = input('queres agregar otro articulo?: s/n')\n",
    "costo = 0\n",
    "for articulo, precio in lista_del_super.items():\n",
    "    print(articulo, '\\t', precio)\n",
    "    costo += precio\n",
    "print(costo)\n"
   ]
  },
  {
   "cell_type": "code",
   "execution_count": 2,
   "metadata": {},
   "outputs": [],
   "source": [
    "class Gato:\n",
    "    def __init__(self, nombre, raza, edad):\n",
    "        self.nombre = nombre\n",
    "        self.raza = raza\n",
    "        self.edad = edad\n",
    "# metodo de acceso\n",
    "    def presentar(self):\n",
    "                print('el gato se llama',self.nombre,'es',self.raza,'y tiene',self.edad)"
   ]
  },
  {
   "cell_type": "code",
   "execution_count": 5,
   "metadata": {},
   "outputs": [],
   "source": [
    "gato1 = Gato('humo','gris',2)\n",
    "gato2 = Gato('Arcoiris','Chota', 4)\n",
    "gato3 = Gato('cebollin','negro', 1)"
   ]
  },
  {
   "cell_type": "code",
   "execution_count": 6,
   "metadata": {},
   "outputs": [
    {
     "name": "stdout",
     "output_type": "stream",
     "text": [
      "el gato se llama cebollin es negro y tiene 1\n"
     ]
    }
   ],
   "source": [
    "Gato.presentar(gato3)"
   ]
  },
  {
   "cell_type": "code",
   "execution_count": 25,
   "metadata": {},
   "outputs": [],
   "source": [
    "class Estudiante:\n",
    "    def __init__(self, nombre, nota):\n",
    "        self.nombre = nombre\n",
    "        self.nota = nota\n",
    "    def imprimir(self):\n",
    "        print(f'El alumno se llama ', self.nombre,' y su nota es ', self.nota)\n",
    "        \n",
    "    def resultados(self):\n",
    "        if self.nota >= 6:\n",
    "            print('APROBADO')\n",
    "        else:\n",
    "            print('DESAPROBADO')"
   ]
  },
  {
   "cell_type": "code",
   "execution_count": 24,
   "metadata": {},
   "outputs": [
    {
     "name": "stdout",
     "output_type": "stream",
     "text": [
      "El alumno se llama  alvaro  y su nota es  8\n",
      "APROBADO\n",
      "El alumno se llama  Pedro  y su nota es  5\n",
      "DESAPROBADO\n",
      "El alumno se llama  Elizabeth  y su nota es  7\n",
      "APROBADO\n"
     ]
    }
   ],
   "source": [
    "estudiante1 = Estudiante('alvaro', 8)\n",
    "estudiante3= Estudiante('Pedro' , 5)\n",
    "estudiante1.imprimir()\n",
    "estudiante1.resultados()\n",
    "estudiante3.imprimir()\n",
    "estudiante3.resultados()\n",
    "estudiante2 = Estudiante('Elizabeth' , 7)\n",
    "estudiante2.imprimir()\n",
    "estudiante2.resultados()"
   ]
  },
  {
   "cell_type": "code",
   "execution_count": 1,
   "metadata": {},
   "outputs": [],
   "source": [
    "class Persona:\n",
    "    def __init__(self, nombre, edad):\n",
    "        self.edad = edad\n",
    "        self.nombre = nombre\n",
    "    def cumple(self):\n",
    "        self.edad += 1\n",
    "    def describir(self):\n",
    "        print(f'Nombre: {self.nombre} y tiene {self.edad}')"
   ]
  },
  {
   "cell_type": "code",
   "execution_count": 2,
   "metadata": {},
   "outputs": [],
   "source": [
    "persona1 = Persona('alvaro', 31)"
   ]
  },
  {
   "cell_type": "code",
   "execution_count": 5,
   "metadata": {},
   "outputs": [
    {
     "name": "stdout",
     "output_type": "stream",
     "text": [
      "Nombre: alvaro y tiene 33\n"
     ]
    }
   ],
   "source": [
    "persona1.describir()\n",
    "persona1.cumple()"
   ]
  },
  {
   "cell_type": "code",
   "execution_count": 6,
   "metadata": {},
   "outputs": [
    {
     "ename": "SyntaxError",
     "evalue": "expected '(' (3864455542.py, line 2)",
     "output_type": "error",
     "traceback": [
      "\u001b[1;36m  Cell \u001b[1;32mIn[6], line 2\u001b[1;36m\u001b[0m\n\u001b[1;33m    def __\u001b[0m\n\u001b[1;37m          ^\u001b[0m\n\u001b[1;31mSyntaxError\u001b[0m\u001b[1;31m:\u001b[0m expected '('\n"
     ]
    }
   ],
   "source": []
  },
  {
   "cell_type": "code",
   "execution_count": null,
   "metadata": {},
   "outputs": [],
   "source": []
  }
 ],
 "metadata": {
  "kernelspec": {
   "display_name": "Python 3",
   "language": "python",
   "name": "python3"
  },
  "language_info": {
   "codemirror_mode": {
    "name": "ipython",
    "version": 3
   },
   "file_extension": ".py",
   "mimetype": "text/x-python",
   "name": "python",
   "nbconvert_exporter": "python",
   "pygments_lexer": "ipython3",
   "version": "3.11.8"
  }
 },
 "nbformat": 4,
 "nbformat_minor": 2
}
