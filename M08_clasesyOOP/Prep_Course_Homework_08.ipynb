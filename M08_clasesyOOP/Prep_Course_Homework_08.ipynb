{
 "cells": [
  {
   "attachments": {},
   "cell_type": "markdown",
   "metadata": {},
   "source": [
    "## Clases y Programación Orientada a Objetos"
   ]
  },
  {
   "attachments": {},
   "cell_type": "markdown",
   "metadata": {},
   "source": [
    "1) Crear la clase vehículo que contenga los atributos:<br>\n",
    "Color<br>\n",
    "Si es moto, auto, camioneta ó camión<br>\n",
    "Cilindrada del motor"
   ]
  },
  {
   "cell_type": "code",
   "execution_count": 497,
   "metadata": {},
   "outputs": [],
   "source": [
    "class Vehiculo:\n",
    "    def __init__(self, color,tipo,hp):\n",
    "        self.c = color\n",
    "        self.tipo = tipo\n",
    "        self.hp = hp"
   ]
  },
  {
   "attachments": {},
   "cell_type": "markdown",
   "metadata": {},
   "source": [
    "2) A la clase Vehiculo creada en el punto 1, agregar los siguientes métodos:<br>\n",
    "Acelerar<br>\n",
    "Frenar<br>\n",
    "Doblar<br>"
   ]
  },
  {
   "cell_type": "code",
   "execution_count": 498,
   "metadata": {},
   "outputs": [],
   "source": [
    "class Vehiculo:\n",
    "    def __init__(self, color,tipo,hp):\n",
    "        self.c = color\n",
    "        self.tipo = tipo\n",
    "        self.hp = hp\n",
    "        self.velocidad = 0\n",
    "        self.direccion = 0\n",
    "    def acelerar(self, velocidad):\n",
    "        self.velocidad += velocidad\n",
    "        print('Velocidad: ', self.velocidad)\n",
    "    def frenar(self, velocidad):\n",
    "            if self.velocidad == 0 and self.velocidad < 0:\n",
    "                 self.velocidad -= velocidad\n",
    "                 print('El vehiculo se detuvo')\n",
    "            else:\n",
    "                self.velocidad -= velocidad\n",
    "                print(self.velocidad)\n",
    "    def doblar(self, grados):\n",
    "        self.direccion += grados"
   ]
  },
  {
   "attachments": {},
   "cell_type": "markdown",
   "metadata": {},
   "source": [
    "3) Instanciar 3 objetos de la clase vehículo y ejecutar sus métodos, probar luego el resultado"
   ]
  },
  {
   "cell_type": "code",
   "execution_count": 499,
   "metadata": {},
   "outputs": [],
   "source": [
    "v1 = Vehiculo('azul','auto',50)\n",
    "v2 = Vehiculo('rojo','moto',20 )\n",
    "v3 = Vehiculo('verde','camion',100)"
   ]
  },
  {
   "cell_type": "code",
   "execution_count": 500,
   "metadata": {},
   "outputs": [
    {
     "name": "stdout",
     "output_type": "stream",
     "text": [
      "Velocidad:  30\n",
      "Velocidad:  20\n",
      "Velocidad:  40\n"
     ]
    }
   ],
   "source": [
    "v2.acelerar(30)\n",
    "v1.acelerar(20)\n",
    "v3.acelerar(40)"
   ]
  },
  {
   "cell_type": "code",
   "execution_count": 501,
   "metadata": {},
   "outputs": [
    {
     "name": "stdout",
     "output_type": "stream",
     "text": [
      "0\n",
      "0\n",
      "0\n"
     ]
    }
   ],
   "source": [
    "v1.frenar(20)\n",
    "v2.frenar(30)\n",
    "v3.frenar(40)"
   ]
  },
  {
   "attachments": {},
   "cell_type": "markdown",
   "metadata": {},
   "source": [
    "4) Agregar a la clase Vehiculo, un método que muestre su estado, es decir, a que velocidad se encuentra y su dirección. Y otro método que muestre color, tipo y cilindrada"
   ]
  },
  {
   "cell_type": "code",
   "execution_count": 502,
   "metadata": {},
   "outputs": [],
   "source": [
    "class Vehiculo:\n",
    "    def __init__(self, color,tipo,hp):\n",
    "        self.color = color\n",
    "        self.tipo = tipo\n",
    "        self.hp = hp\n",
    "        self.velocidad = 0\n",
    "        self.direccion = 0\n",
    "    def acelerar(self, velocidad):\n",
    "        self.velocidad += velocidad\n",
    "        print('Velocidad: ', self.velocidad)\n",
    "    def frenar(self, velocidad):\n",
    "            self.velocidad -= velocidad\n",
    "            print('velocidad: ', self.velocidad)\n",
    "    def doblar(self, grados):\n",
    "        self.direccion += grados\n",
    "    def detalle(self):\n",
    "         print(f'Soy {self.tipo} viajando a {self.velocidad} kph yendo para {self.direccion}')\n",
    "    def color(self):\n",
    "         print('Soy de color', self.c, 'soy un/a', self.tipo, 'y tengo', self.hp, 'caballos de fuerza')"
   ]
  },
  {
   "cell_type": "code",
   "execution_count": 503,
   "metadata": {},
   "outputs": [],
   "source": [
    "v1 = Vehiculo('azul','auto',50)\n",
    "v2 = Vehiculo('rojo','moto',20 )\n",
    "v3 = Vehiculo('verde','camion',100)"
   ]
  },
  {
   "cell_type": "code",
   "execution_count": 504,
   "metadata": {},
   "outputs": [
    {
     "name": "stdout",
     "output_type": "stream",
     "text": [
      "Velocidad:  1\n"
     ]
    }
   ],
   "source": [
    "v1.acelerar(1)"
   ]
  },
  {
   "cell_type": "code",
   "execution_count": 505,
   "metadata": {},
   "outputs": [
    {
     "name": "stdout",
     "output_type": "stream",
     "text": [
      "velocidad:  0\n"
     ]
    }
   ],
   "source": [
    "v1.frenar(1)"
   ]
  },
  {
   "cell_type": "code",
   "execution_count": 506,
   "metadata": {},
   "outputs": [],
   "source": [
    "v1.doblar(3)"
   ]
  },
  {
   "cell_type": "code",
   "execution_count": 507,
   "metadata": {},
   "outputs": [
    {
     "name": "stdout",
     "output_type": "stream",
     "text": [
      "Soy auto viajando a 0 kph yendo para 3\n"
     ]
    }
   ],
   "source": [
    "v1.detalle()"
   ]
  },
  {
   "cell_type": "code",
   "execution_count": 508,
   "metadata": {},
   "outputs": [
    {
     "ename": "TypeError",
     "evalue": "'str' object is not callable",
     "output_type": "error",
     "traceback": [
      "\u001b[1;31m---------------------------------------------------------------------------\u001b[0m",
      "\u001b[1;31mTypeError\u001b[0m                                 Traceback (most recent call last)",
      "Cell \u001b[1;32mIn[508], line 1\u001b[0m\n\u001b[1;32m----> 1\u001b[0m \u001b[43mv1\u001b[49m\u001b[38;5;241;43m.\u001b[39;49m\u001b[43mcolor\u001b[49m\u001b[43m(\u001b[49m\u001b[43m)\u001b[49m\n",
      "\u001b[1;31mTypeError\u001b[0m: 'str' object is not callable"
     ]
    }
   ],
   "source": [
    "v1.color()"
   ]
  },
  {
   "attachments": {},
   "cell_type": "markdown",
   "metadata": {},
   "source": [
    "5) Crear una clase que permita utilizar las funciones creadas en la práctica del módulo 7<br>\n",
    "Verificar Primo<br>\n",
    "Valor modal<br>\n",
    "Conversión grados<br>\n",
    "Factorial<br>"
   ]
  },
  {
   "cell_type": "code",
   "execution_count": null,
   "metadata": {},
   "outputs": [],
   "source": [
    "class Calculadora:\n",
    "    def __init__(self) -> None:\n",
    "        pass\n",
    "    def esprimo(self, numero):\n",
    "        primo = True\n",
    "        for x in range(2,numero):\n",
    "            if numero % x == 0:\n",
    "                primo = False\n",
    "                break\n",
    "        return primo\n",
    "    def conversor_de_temperatura(self,v,u1,u2):\n",
    "        temperatura = 0\n",
    "        if u1 == 'F' and u2 == 'C':\n",
    "            temperatura = ((float(v) - 32) * 5 / 9)\n",
    "        \n",
    "        elif u1 == 'F' and u2 == 'K':\n",
    "            temperatura = ((float(v) - 32) * 5 / 9) + 273.15\n",
    "\n",
    "        elif u1 == 'F' and u2 == 'F':\n",
    "            temperatura = v\n",
    "            \n",
    "        elif u1 == 'K' and u2 == 'C':\n",
    "            temperatura = v - 273.15\n",
    "            \n",
    "        elif u1 == 'K' and u2 == 'F':\n",
    "            temperatura = (((v - 273.15) * 9/5) + 32) \n",
    "\n",
    "        elif u1 == 'K' and u2 == 'K':\n",
    "            temperatura = v\n",
    "            \n",
    "        elif u1 =='C' and u2 == 'F':\n",
    "            temperatura = (v * 9/5) + 32\n",
    "            \n",
    "        elif u1 == 'C' and u2 == 'K':\n",
    "            temperatura = v + 273.15\n",
    "\n",
    "        elif u1 == 'C' and u2 == 'C':\n",
    "            temperatura = v\n",
    "        else:\n",
    "            print('Parametros incorrectos')\n",
    "\n",
    "        return temperatura\n",
    "    def factorial(self,num):\n",
    "    \n",
    "        if type(num) != int:\n",
    "            return 'El numero debe ser entero'\n",
    "        elif num < 0:\n",
    "            return 'El numero debe ser positivo'\n",
    "        elif num <= 1:\n",
    "            return 1\n",
    "        else:\n",
    "            num = num * self.factorial(num - 1)\n",
    "        return num\n",
    "    def valor_modal(lista):\n",
    "        lista_unicos = []\n",
    "        lista_repeticiones = []\n",
    "        if len(lista) == 0:\n",
    "            return None\n",
    "        for elemento in lista:\n",
    "            if elemento in lista_unicos:\n",
    "                i = lista_unicos.index(elemento)\n",
    "                lista_repeticiones[i] += 1\n",
    "            else:\n",
    "                lista_unicos.append(elemento)\n",
    "                lista_repeticiones.append(1)\n",
    "        moda = lista_unicos[0]\n",
    "        maximo = lista_repeticiones[0]\n",
    "        for i, elemento in enumerate(lista_unicos):\n",
    "            if lista_repeticiones[i] > maximo:\n",
    "                moda = lista_unicos[i]\n",
    "                maximo = lista_repeticiones[i]\n",
    "        return moda, maximo"
   ]
  },
  {
   "cell_type": "code",
   "execution_count": null,
   "metadata": {},
   "outputs": [
    {
     "data": {
      "text/plain": [
       "True"
      ]
     },
     "execution_count": 423,
     "metadata": {},
     "output_type": "execute_result"
    }
   ],
   "source": [
    "c1 = Calculadora()"
   ]
  },
  {
   "attachments": {},
   "cell_type": "markdown",
   "metadata": {},
   "source": [
    "6) Probar las funciones incorporadas en la clase del punto 5"
   ]
  },
  {
   "cell_type": "code",
   "execution_count": null,
   "metadata": {},
   "outputs": [
    {
     "data": {
      "text/plain": [
       "362880"
      ]
     },
     "execution_count": 424,
     "metadata": {},
     "output_type": "execute_result"
    }
   ],
   "source": [
    "c1.factorial(9)"
   ]
  },
  {
   "cell_type": "code",
   "execution_count": null,
   "metadata": {},
   "outputs": [
    {
     "data": {
      "text/plain": [
       "122.0"
      ]
     },
     "execution_count": 425,
     "metadata": {},
     "output_type": "execute_result"
    }
   ],
   "source": [
    "c1.conversor_de_temperatura(50,'C','F')"
   ]
  },
  {
   "cell_type": "code",
   "execution_count": null,
   "metadata": {},
   "outputs": [
    {
     "data": {
      "text/plain": [
       "True"
      ]
     },
     "execution_count": 496,
     "metadata": {},
     "output_type": "execute_result"
    }
   ],
   "source": [
    "c1.esprimo(7)"
   ]
  },
  {
   "attachments": {},
   "cell_type": "markdown",
   "metadata": {},
   "source": [
    "7) Es necesario que la clase creada en el punto 5 contenga una lista, sobre la cual se apliquen las funciones incorporadas"
   ]
  },
  {
   "cell_type": "code",
   "execution_count": 520,
   "metadata": {},
   "outputs": [],
   "source": [
    "class Calculadora:\n",
    "    def __init__(self,lista):\n",
    "        self.lista = lista\n",
    "    def esprimo(self):\n",
    "        for x in self.lista:\n",
    "            if (self.__esprimo(x)):\n",
    "                print('el elemento ',x, 'si es primo')\n",
    "            else:\n",
    "                print('el elemento', x, 'no es primo')\n",
    "    def conversor_de_temperatura(self,u1,u2):\n",
    "        for x in self.lista:\n",
    "            print(x, 'grados', u1, 'equivalen a ', self.__conversor_de_temperatura(x,u1,u2), 'grados', u2 )\n",
    "    def factorial(self):\n",
    "        for x in self.lista:\n",
    "            print('El factorial de ', x, 'es', self.__factorial(x))\n",
    "    def __esprimo(self, numero):\n",
    "        primo = True\n",
    "        for x in range(2,numero):\n",
    "            if numero % x == 0:\n",
    "                primo = False\n",
    "                break\n",
    "        return primo\n",
    "    def __conversor_de_temperatura(self,v,u1,u2):\n",
    "        temperatura = 0\n",
    "        if u1 == 'F' and u2 == 'C':\n",
    "            temperatura = ((float(v) - 32) * 5 / 9)\n",
    "        \n",
    "        elif u1 == 'F' and u2 == 'K':\n",
    "            temperatura = ((float(v) - 32) * 5 / 9) + 273.15\n",
    "\n",
    "        elif u1 == 'F' and u2 == 'F':\n",
    "            temperatura = v\n",
    "            \n",
    "        elif u1 == 'K' and u2 == 'C':\n",
    "            temperatura = v - 273.15\n",
    "            \n",
    "        elif u1 == 'K' and u2 == 'F':\n",
    "            temperatura = (((v - 273.15) * 9/5) + 32) \n",
    "\n",
    "        elif u1 == 'K' and u2 == 'K':\n",
    "            temperatura = v\n",
    "            \n",
    "        elif u1 =='C' and u2 == 'F':\n",
    "            temperatura = (v * 9/5) + 32\n",
    "            \n",
    "        elif u1 == 'C' and u2 == 'K':\n",
    "            temperatura = v + 273.15\n",
    "\n",
    "        elif u1 == 'C' and u2 == 'C':\n",
    "            temperatura = v\n",
    "        else:\n",
    "            print('Parametros incorrectos')\n",
    "\n",
    "        return temperatura\n",
    "    def __factorial(self,num):\n",
    "    \n",
    "        if type(num) != int:\n",
    "            return 'El numero debe ser entero'\n",
    "        elif num < 0:\n",
    "            return 'El numero debe ser positivo'\n",
    "        elif num <= 1:\n",
    "            return 1\n",
    "        else:\n",
    "            num = num * self.__factorial(num - 1)\n",
    "        return num"
   ]
  },
  {
   "cell_type": "code",
   "execution_count": 510,
   "metadata": {},
   "outputs": [],
   "source": [
    "c = Calculadora([1,2,3,4,5,6,6,6,6,6,7,7,7,7,7,7,7,8,8,8,8,9,9,9,9])"
   ]
  },
  {
   "cell_type": "code",
   "execution_count": 511,
   "metadata": {},
   "outputs": [
    {
     "name": "stdout",
     "output_type": "stream",
     "text": [
      "el elemento  1 si es primo\n",
      "el elemento  2 si es primo\n",
      "el elemento  3 si es primo\n",
      "el elemento 4 no es primo\n",
      "el elemento  5 si es primo\n",
      "el elemento 6 no es primo\n",
      "el elemento 6 no es primo\n",
      "el elemento 6 no es primo\n",
      "el elemento 6 no es primo\n",
      "el elemento 6 no es primo\n",
      "el elemento  7 si es primo\n",
      "el elemento  7 si es primo\n",
      "el elemento  7 si es primo\n",
      "el elemento  7 si es primo\n",
      "el elemento  7 si es primo\n",
      "el elemento  7 si es primo\n",
      "el elemento  7 si es primo\n",
      "el elemento 8 no es primo\n",
      "el elemento 8 no es primo\n",
      "el elemento 8 no es primo\n",
      "el elemento 8 no es primo\n",
      "el elemento 9 no es primo\n",
      "el elemento 9 no es primo\n",
      "el elemento 9 no es primo\n",
      "el elemento 9 no es primo\n"
     ]
    }
   ],
   "source": [
    "c.esprimo()\n"
   ]
  },
  {
   "cell_type": "code",
   "execution_count": 513,
   "metadata": {},
   "outputs": [
    {
     "name": "stdout",
     "output_type": "stream",
     "text": [
      "1 grados C equivalen a  274.15 grados K\n",
      "2 grados C equivalen a  275.15 grados K\n",
      "3 grados C equivalen a  276.15 grados K\n",
      "4 grados C equivalen a  277.15 grados K\n",
      "5 grados C equivalen a  278.15 grados K\n",
      "6 grados C equivalen a  279.15 grados K\n",
      "6 grados C equivalen a  279.15 grados K\n",
      "6 grados C equivalen a  279.15 grados K\n",
      "6 grados C equivalen a  279.15 grados K\n",
      "6 grados C equivalen a  279.15 grados K\n",
      "7 grados C equivalen a  280.15 grados K\n",
      "7 grados C equivalen a  280.15 grados K\n",
      "7 grados C equivalen a  280.15 grados K\n",
      "7 grados C equivalen a  280.15 grados K\n",
      "7 grados C equivalen a  280.15 grados K\n",
      "7 grados C equivalen a  280.15 grados K\n",
      "7 grados C equivalen a  280.15 grados K\n",
      "8 grados C equivalen a  281.15 grados K\n",
      "8 grados C equivalen a  281.15 grados K\n",
      "8 grados C equivalen a  281.15 grados K\n",
      "8 grados C equivalen a  281.15 grados K\n",
      "9 grados C equivalen a  282.15 grados K\n",
      "9 grados C equivalen a  282.15 grados K\n",
      "9 grados C equivalen a  282.15 grados K\n",
      "9 grados C equivalen a  282.15 grados K\n"
     ]
    }
   ],
   "source": [
    "c.conversor_de_temperatura('C','K')"
   ]
  },
  {
   "cell_type": "code",
   "execution_count": 522,
   "metadata": {},
   "outputs": [
    {
     "name": "stdout",
     "output_type": "stream",
     "text": [
      "El factorial de  1 es 1\n"
     ]
    },
    {
     "ename": "TypeError",
     "evalue": "Calculadora.factorial() takes 1 positional argument but 2 were given",
     "output_type": "error",
     "traceback": [
      "\u001b[1;31m---------------------------------------------------------------------------\u001b[0m",
      "\u001b[1;31mTypeError\u001b[0m                                 Traceback (most recent call last)",
      "Cell \u001b[1;32mIn[522], line 1\u001b[0m\n\u001b[1;32m----> 1\u001b[0m \u001b[43mc\u001b[49m\u001b[38;5;241;43m.\u001b[39;49m\u001b[43mfactorial\u001b[49m\u001b[43m(\u001b[49m\u001b[43m)\u001b[49m\n",
      "Cell \u001b[1;32mIn[509], line 15\u001b[0m, in \u001b[0;36mCalculadora.factorial\u001b[1;34m(self)\u001b[0m\n\u001b[0;32m     13\u001b[0m \u001b[38;5;28;01mdef\u001b[39;00m \u001b[38;5;21mfactorial\u001b[39m(\u001b[38;5;28mself\u001b[39m):\n\u001b[0;32m     14\u001b[0m     \u001b[38;5;28;01mfor\u001b[39;00m x \u001b[38;5;129;01min\u001b[39;00m \u001b[38;5;28mself\u001b[39m\u001b[38;5;241m.\u001b[39mlista:\n\u001b[1;32m---> 15\u001b[0m         \u001b[38;5;28mprint\u001b[39m(\u001b[38;5;124m'\u001b[39m\u001b[38;5;124mEl factorial de \u001b[39m\u001b[38;5;124m'\u001b[39m, x, \u001b[38;5;124m'\u001b[39m\u001b[38;5;124mes\u001b[39m\u001b[38;5;124m'\u001b[39m, \u001b[38;5;28;43mself\u001b[39;49m\u001b[38;5;241;43m.\u001b[39;49m\u001b[43m__factorial\u001b[49m\u001b[43m(\u001b[49m\u001b[43mx\u001b[49m\u001b[43m)\u001b[49m)\n",
      "Cell \u001b[1;32mIn[509], line 64\u001b[0m, in \u001b[0;36mCalculadora.__factorial\u001b[1;34m(self, num)\u001b[0m\n\u001b[0;32m     62\u001b[0m     \u001b[38;5;28;01mreturn\u001b[39;00m \u001b[38;5;241m1\u001b[39m\n\u001b[0;32m     63\u001b[0m \u001b[38;5;28;01melse\u001b[39;00m:\n\u001b[1;32m---> 64\u001b[0m     num \u001b[38;5;241m=\u001b[39m num \u001b[38;5;241m*\u001b[39m \u001b[38;5;28;43mself\u001b[39;49m\u001b[38;5;241;43m.\u001b[39;49m\u001b[43mfactorial\u001b[49m\u001b[43m(\u001b[49m\u001b[43mnum\u001b[49m\u001b[43m \u001b[49m\u001b[38;5;241;43m-\u001b[39;49m\u001b[43m \u001b[49m\u001b[38;5;241;43m1\u001b[39;49m\u001b[43m)\u001b[49m\n\u001b[0;32m     65\u001b[0m \u001b[38;5;28;01mreturn\u001b[39;00m num\n",
      "\u001b[1;31mTypeError\u001b[0m: Calculadora.factorial() takes 1 positional argument but 2 were given"
     ]
    }
   ],
   "source": [
    "c.factorial()"
   ]
  },
  {
   "attachments": {},
   "cell_type": "markdown",
   "metadata": {},
   "source": [
    "8) Crear un archivo .py aparte y ubicar allí la clase generada en el punto anterior. Luego realizar la importación del módulo y probar alguna de sus funciones"
   ]
  },
  {
   "cell_type": "code",
   "execution_count": 523,
   "metadata": {},
   "outputs": [],
   "source": [
    "from calculadora import *"
   ]
  },
  {
   "cell_type": "code",
   "execution_count": 524,
   "metadata": {},
   "outputs": [],
   "source": [
    "h = Calculadora([1,2,3,4,5,5,6,7,8,8,8,8,8,9,9])"
   ]
  },
  {
   "cell_type": "code",
   "execution_count": 525,
   "metadata": {},
   "outputs": [
    {
     "name": "stdout",
     "output_type": "stream",
     "text": [
      "1 grados C equivalen a  33.8 grados F\n",
      "2 grados C equivalen a  35.6 grados F\n",
      "3 grados C equivalen a  37.4 grados F\n",
      "4 grados C equivalen a  39.2 grados F\n",
      "5 grados C equivalen a  41.0 grados F\n",
      "5 grados C equivalen a  41.0 grados F\n",
      "6 grados C equivalen a  42.8 grados F\n",
      "7 grados C equivalen a  44.6 grados F\n",
      "8 grados C equivalen a  46.4 grados F\n",
      "8 grados C equivalen a  46.4 grados F\n",
      "8 grados C equivalen a  46.4 grados F\n",
      "8 grados C equivalen a  46.4 grados F\n",
      "8 grados C equivalen a  46.4 grados F\n",
      "9 grados C equivalen a  48.2 grados F\n",
      "9 grados C equivalen a  48.2 grados F\n"
     ]
    }
   ],
   "source": [
    "h.conversor_de_temperatura('C','F')"
   ]
  }
 ],
 "metadata": {
  "interpreter": {
   "hash": "c85384e4cb51c8b72350f3a8712cc8351fdc3955e32a27f9b60c6242ab125f01"
  },
  "kernelspec": {
   "display_name": "Python 3 (ipykernel)",
   "language": "python",
   "name": "python3"
  },
  "language_info": {
   "codemirror_mode": {
    "name": "ipython",
    "version": 3
   },
   "file_extension": ".py",
   "mimetype": "text/x-python",
   "name": "python",
   "nbconvert_exporter": "python",
   "pygments_lexer": "ipython3",
   "version": "3.11.8"
  }
 },
 "nbformat": 4,
 "nbformat_minor": 4
}
