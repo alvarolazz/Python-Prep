{
 "cells": [
  {
   "attachments": {},
   "cell_type": "markdown",
   "metadata": {},
   "source": [
    "## Clases y Programación Orientada a Objetos"
   ]
  },
  {
   "attachments": {},
   "cell_type": "markdown",
   "metadata": {},
   "source": [
    "1) Crear la clase vehículo que contenga los atributos:<br>\n",
    "Color<br>\n",
    "Si es moto, auto, camioneta ó camión<br>\n",
    "Cilindrada del motor"
   ]
  },
  {
   "cell_type": "code",
   "execution_count": 2,
   "metadata": {},
   "outputs": [],
   "source": [
    "class Vehiculo:\n",
    "    def __init__(self, color,tipo,hp):\n",
    "        self.c = color\n",
    "        self.tipo = tipo\n",
    "        self.hp = hp"
   ]
  },
  {
   "attachments": {},
   "cell_type": "markdown",
   "metadata": {},
   "source": [
    "2) A la clase Vehiculo creada en el punto 1, agregar los siguientes métodos:<br>\n",
    "Acelerar<br>\n",
    "Frenar<br>\n",
    "Doblar<br>"
   ]
  },
  {
   "cell_type": "code",
   "execution_count": 198,
   "metadata": {},
   "outputs": [],
   "source": [
    "class Vehiculo:\n",
    "    def __init__(self, color,tipo,hp):\n",
    "        self.c = color\n",
    "        self.tipo = tipo\n",
    "        self.hp = hp\n",
    "        self.velocidad = 0\n",
    "        self.direccion = 0\n",
    "    def acelerar(self, velocidad):\n",
    "        self.velocidad += velocidad\n",
    "        print('Velocidad: ', self.velocidad)\n",
    "    def frenar(self, velocidad):\n",
    "            if self.velocidad == 0 and self.velocidad < 0:\n",
    "                 self.velocidad -= velocidad\n",
    "                 print('El vehiculo se detuvo')\n",
    "            else:\n",
    "                self.velocidad -= velocidad\n",
    "                print(self.velocidad)\n",
    "    def doblar(self, grados):\n",
    "        self.direccion += grados"
   ]
  },
  {
   "attachments": {},
   "cell_type": "markdown",
   "metadata": {},
   "source": [
    "3) Instanciar 3 objetos de la clase vehículo y ejecutar sus métodos, probar luego el resultado"
   ]
  },
  {
   "cell_type": "code",
   "execution_count": 211,
   "metadata": {},
   "outputs": [],
   "source": [
    "v1 = Vehiculo('azul','auto',50)\n",
    "v2 = Vehiculo('rojo','moto',20 )\n",
    "v3 = Vehiculo('verde','camion',100)"
   ]
  },
  {
   "cell_type": "code",
   "execution_count": 203,
   "metadata": {},
   "outputs": [
    {
     "name": "stdout",
     "output_type": "stream",
     "text": [
      "Velocidad:  30\n",
      "Velocidad:  20\n",
      "Velocidad:  40\n"
     ]
    }
   ],
   "source": [
    "v2.acelerar(30)\n",
    "v1.acelerar(20)\n",
    "v3.acelerar(40)"
   ]
  },
  {
   "cell_type": "code",
   "execution_count": 204,
   "metadata": {},
   "outputs": [
    {
     "name": "stdout",
     "output_type": "stream",
     "text": [
      "0\n",
      "0\n",
      "0\n"
     ]
    }
   ],
   "source": [
    "v1.frenar(20)\n",
    "v2.frenar(30)\n",
    "v3.frenar(40)"
   ]
  },
  {
   "attachments": {},
   "cell_type": "markdown",
   "metadata": {},
   "source": [
    "4) Agregar a la clase Vehiculo, un método que muestre su estado, es decir, a que velocidad se encuentra y su dirección. Y otro método que muestre color, tipo y cilindrada"
   ]
  },
  {
   "cell_type": "code",
   "execution_count": 373,
   "metadata": {},
   "outputs": [],
   "source": [
    "class Vehiculo:\n",
    "    def __init__(self, color,tipo,hp):\n",
    "        self.color = color\n",
    "        self.tipo = tipo\n",
    "        self.hp = hp\n",
    "        self.velocidad = 0\n",
    "        self.direccion = 0\n",
    "    def acelerar(self, velocidad):\n",
    "        self.velocidad += velocidad\n",
    "        print('Velocidad: ', self.velocidad)\n",
    "    def frenar(self, velocidad):\n",
    "            self.velocidad -= velocidad\n",
    "            print('velocidad: ', self.velocidad)\n",
    "    def doblar(self, grados):\n",
    "        self.direccion += grados\n",
    "    def detalle(self):\n",
    "         print(f'Soy {self.tipo} viajando a {self.velocidad} kph yendo para {self.direccion}')\n",
    "    def color(self):\n",
    "         print(f'Soy de color', self.c, 'soy un/a', self.tipo, 'y tengo', self.hp, 'caballos de fuerza')"
   ]
  },
  {
   "cell_type": "code",
   "execution_count": 397,
   "metadata": {},
   "outputs": [],
   "source": [
    "v1 = Vehiculo('azul','auto',50)\n",
    "v2 = Vehiculo('rojo','moto',20 )\n",
    "v3 = Vehiculo('verde','camion',100)"
   ]
  },
  {
   "cell_type": "code",
   "execution_count": 381,
   "metadata": {},
   "outputs": [
    {
     "name": "stdout",
     "output_type": "stream",
     "text": [
      "Velocidad:  7\n"
     ]
    }
   ],
   "source": [
    "v1.acelerar(1)"
   ]
  },
  {
   "cell_type": "code",
   "execution_count": 389,
   "metadata": {},
   "outputs": [
    {
     "name": "stdout",
     "output_type": "stream",
     "text": [
      "velocidad:  -1\n"
     ]
    }
   ],
   "source": [
    "v1.frenar(1)"
   ]
  },
  {
   "cell_type": "code",
   "execution_count": 391,
   "metadata": {},
   "outputs": [],
   "source": [
    "v1.doblar(3)"
   ]
  },
  {
   "cell_type": "code",
   "execution_count": 392,
   "metadata": {},
   "outputs": [
    {
     "name": "stdout",
     "output_type": "stream",
     "text": [
      "Soy auto viajando a -1 kph yendo para 3\n"
     ]
    }
   ],
   "source": [
    "v1.detalle()"
   ]
  },
  {
   "cell_type": "code",
   "execution_count": null,
   "metadata": {},
   "outputs": [],
   "source": [
    "v1.color()"
   ]
  },
  {
   "attachments": {},
   "cell_type": "markdown",
   "metadata": {},
   "source": [
    "5) Crear una clase que permita utilizar las funciones creadas en la práctica del módulo 7<br>\n",
    "Verificar Primo<br>\n",
    "Valor modal<br>\n",
    "Conversión grados<br>\n",
    "Factorial<br>"
   ]
  },
  {
   "cell_type": "code",
   "execution_count": null,
   "metadata": {},
   "outputs": [],
   "source": []
  },
  {
   "attachments": {},
   "cell_type": "markdown",
   "metadata": {},
   "source": [
    "6) Probar las funciones incorporadas en la clase del punto 5"
   ]
  },
  {
   "cell_type": "code",
   "execution_count": null,
   "metadata": {},
   "outputs": [],
   "source": []
  },
  {
   "attachments": {},
   "cell_type": "markdown",
   "metadata": {},
   "source": [
    "7) Es necesario que la clase creada en el punto 5 contenga una lista, sobre la cual se apliquen las funciones incorporadas"
   ]
  },
  {
   "cell_type": "code",
   "execution_count": null,
   "metadata": {},
   "outputs": [],
   "source": []
  },
  {
   "attachments": {},
   "cell_type": "markdown",
   "metadata": {},
   "source": [
    "8) Crear un archivo .py aparte y ubicar allí la clase generada en el punto anterior. Luego realizar la importación del módulo y probar alguna de sus funciones"
   ]
  },
  {
   "cell_type": "code",
   "execution_count": null,
   "metadata": {},
   "outputs": [],
   "source": []
  }
 ],
 "metadata": {
  "interpreter": {
   "hash": "c85384e4cb51c8b72350f3a8712cc8351fdc3955e32a27f9b60c6242ab125f01"
  },
  "kernelspec": {
   "display_name": "Python 3 (ipykernel)",
   "language": "python",
   "name": "python3"
  },
  "language_info": {
   "codemirror_mode": {
    "name": "ipython",
    "version": 3
   },
   "file_extension": ".py",
   "mimetype": "text/x-python",
   "name": "python",
   "nbconvert_exporter": "python",
   "pygments_lexer": "ipython3",
   "version": "3.11.8"
  }
 },
 "nbformat": 4,
 "nbformat_minor": 4
}
