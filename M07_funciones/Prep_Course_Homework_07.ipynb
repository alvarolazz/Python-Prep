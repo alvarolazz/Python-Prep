{
 "cells": [
  {
   "attachments": {},
   "cell_type": "markdown",
   "metadata": {},
   "source": [
    "## Funciones"
   ]
  },
  {
   "attachments": {},
   "cell_type": "markdown",
   "metadata": {},
   "source": [
    "1) Crear una función que reciba un número como parámetro y devuelva True si es primo y False si no lo es"
   ]
  },
  {
   "cell_type": "code",
   "execution_count": 19,
   "metadata": {},
   "outputs": [],
   "source": [
    "def esprimo(num):\n",
    "    primo = True\n",
    "    for x in range(2,num):\n",
    "        if num % x == 0:\n",
    "            primo = False\n",
    "            break\n",
    "    return primo"
   ]
  },
  {
   "cell_type": "code",
   "execution_count": 21,
   "metadata": {},
   "outputs": [
    {
     "data": {
      "text/plain": [
       "False"
      ]
     },
     "execution_count": 21,
     "metadata": {},
     "output_type": "execute_result"
    }
   ],
   "source": [
    "esprimo(8)"
   ]
  },
  {
   "attachments": {},
   "cell_type": "markdown",
   "metadata": {},
   "source": [
    "2) Utilizando la función del punto 1, realizar otra función que reciba de parámetro una lista de números y devuelva sólo aquellos que son primos en otra lista"
   ]
  },
  {
   "cell_type": "code",
   "execution_count": 25,
   "metadata": {},
   "outputs": [],
   "source": [
    "def sonprimos(lista):\n",
    "    lista_primos = []\n",
    "    for e in lista:\n",
    "        if esprimo(e):\n",
    "            lista_primos.append(e)\n",
    "    return lista_primos\n",
    "    \n",
    "        "
   ]
  },
  {
   "cell_type": "code",
   "execution_count": 27,
   "metadata": {},
   "outputs": [
    {
     "data": {
      "text/plain": [
       "[1, 2, 3, 5, 7, 11, 13, 17, 19]"
      ]
     },
     "execution_count": 27,
     "metadata": {},
     "output_type": "execute_result"
    }
   ],
   "source": [
    "lista_completa = [1,2,3,4,5,6,7,8,9,10,11,12,13,14,15,16,17,18,19,20]\n",
    "lista_primos = sonprimos(lista_completa)\n",
    "lista_primos"
   ]
  },
  {
   "attachments": {},
   "cell_type": "markdown",
   "metadata": {},
   "source": [
    "3) Crear una función que al recibir una lista de números, devuelva el que más se repite y cuántas veces lo hace. Si hay más de un \"más repetido\", que devuelva cualquiera"
   ]
  },
  {
   "cell_type": "code",
   "execution_count": null,
   "metadata": {},
   "outputs": [],
   "source": [
    "def numeros_repetidos(listaden):\n",
    "    x = 0\n",
    "    for e in listaden:\n",
    "        if "
   ]
  },
  {
   "attachments": {},
   "cell_type": "markdown",
   "metadata": {},
   "source": [
    "4) Crear una función que convierta entre grados Celsius, Farenheit y Kelvin<br>\n",
    "Fórmula 1\t: (°C × 9/5) + 32 = °F<br>\n",
    "Fórmula 2\t: °C + 273.15 = °K<br>\n",
    "Debe recibir 3 parámetros: el valor, la medida de orígen y la medida de destino\n"
   ]
  },
  {
   "cell_type": "code",
   "execution_count": 45,
   "metadata": {},
   "outputs": [],
   "source": [
    "def conversor_de_temperatura(v,u1,u2):\n",
    "    temperatura = 0\n",
    "    if u1 == 'F' and u2 == 'C':\n",
    "        temperatura = ((float(v) - 32) * 5 / 9)\n",
    "        \n",
    "    elif u1 == 'F' and u2 == 'K':\n",
    "        temperatura = ((float(v) - 32) * 5 / 9) + 273.15\n",
    "\n",
    "    elif u1 == 'F' and u2 == 'F':\n",
    "        temperatura = v\n",
    "        \n",
    "    elif u1 == 'K' and u2 == 'C':\n",
    "        temperatura = v - 273.15\n",
    "        \n",
    "    elif u1 == 'K' and u2 == 'F':\n",
    "        temperatura = (((v - 273.15) * 9/5) + 32) \n",
    "\n",
    "    elif u1 == 'K' and u2 == 'K':\n",
    "        temperatura = v\n",
    "        \n",
    "    elif u1 =='C' and u2 == 'F':\n",
    "        temperatura = (v * 9/5) + 32\n",
    "        \n",
    "    elif u1 == 'C' and u2 == 'K':\n",
    "        temperatura = v + 273.15\n",
    "\n",
    "    elif u1 == 'C' and u2 == 'C':\n",
    "        temperatura = v\n",
    "    else:\n",
    "        print('Parametros incorrectos')\n",
    "\n",
    "    return temperatura"
   ]
  },
  {
   "cell_type": "code",
   "execution_count": 46,
   "metadata": {},
   "outputs": [
    {
     "name": "stdout",
     "output_type": "stream",
     "text": [
      "Parametros incorrectos\n"
     ]
    },
    {
     "data": {
      "text/plain": [
       "0"
      ]
     },
     "execution_count": 46,
     "metadata": {},
     "output_type": "execute_result"
    }
   ],
   "source": [
    "conversor_de_temperatura(90,'x','x')"
   ]
  },
  {
   "attachments": {},
   "cell_type": "markdown",
   "metadata": {},
   "source": [
    "5) Iterando una lista con los tres valores posibles de temperatura que recibe la función del punto 5, hacer un print para cada combinación de los mismos:"
   ]
  },
  {
   "cell_type": "code",
   "execution_count": 50,
   "metadata": {},
   "outputs": [
    {
     "name": "stdout",
     "output_type": "stream",
     "text": [
      "1 grado C a C : 1\n",
      "1 grado C a F : 33.8\n",
      "1 grado C a K : 274.15\n",
      "1 grado F a C : -17.22222222222222\n",
      "1 grado F a F : 1\n",
      "1 grado F a K : 255.92777777777775\n",
      "1 grado K a C : -272.15\n",
      "1 grado K a F : -457.87\n",
      "1 grado K a K : 1\n"
     ]
    }
   ],
   "source": [
    "temps = ['C','F','K']\n",
    "for t in range(0,3):\n",
    "    for x in range(0,3):\n",
    "        print('1 grado', temps[t], 'a', temps[x], ':', conversor_de_temperatura(1,temps[t],temps[x]))"
   ]
  },
  {
   "attachments": {},
   "cell_type": "markdown",
   "metadata": {},
   "source": [
    "6) Armar una función que devuelva el factorial de un número. Tener en cuenta que el usuario puede equivocarse y enviar de parámetro un número no entero o negativo"
   ]
  },
  {
   "cell_type": "code",
   "execution_count": 67,
   "metadata": {},
   "outputs": [],
   "source": [
    "def factorial(num):\n",
    "    \n",
    "    if type(num) != int:\n",
    "        return 'El numero debe ser entero'\n",
    "    if num < 0:\n",
    "        return 'El numero debe ser positivo'\n",
    "    if num <= 1:\n",
    "        return 1\n",
    "    else:\n",
    "        num = num * factorial(num - 1)\n",
    "    return num"
   ]
  },
  {
   "cell_type": "code",
   "execution_count": 75,
   "metadata": {},
   "outputs": [
    {
     "name": "stdout",
     "output_type": "stream",
     "text": [
      "362880\n",
      "El numero debe ser entero\n",
      "El numero debe ser entero\n",
      "El numero debe ser positivo\n"
     ]
    }
   ],
   "source": [
    "print(factorial(9))\n",
    "print(factorial('a'))\n",
    "print(factorial(1.5))\n",
    "print(factorial(-5))"
   ]
  },
  {
   "cell_type": "code",
   "execution_count": null,
   "metadata": {},
   "outputs": [],
   "source": []
  }
 ],
 "metadata": {
  "interpreter": {
   "hash": "c85384e4cb51c8b72350f3a8712cc8351fdc3955e32a27f9b60c6242ab125f01"
  },
  "kernelspec": {
   "display_name": "Python 3 (ipykernel)",
   "language": "python",
   "name": "python3"
  },
  "language_info": {
   "codemirror_mode": {
    "name": "ipython",
    "version": 3
   },
   "file_extension": ".py",
   "mimetype": "text/x-python",
   "name": "python",
   "nbconvert_exporter": "python",
   "pygments_lexer": "ipython3",
   "version": "3.11.8"
  }
 },
 "nbformat": 4,
 "nbformat_minor": 4
}
